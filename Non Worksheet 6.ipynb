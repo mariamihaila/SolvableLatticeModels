{
 "cells": [
  {
   "cell_type": "markdown",
   "id": "32b535a7",
   "metadata": {},
   "source": [
    "### Non Worksheet 6"
   ]
  },
  {
   "cell_type": "code",
   "execution_count": 35,
   "id": "4c80be7f",
   "metadata": {},
   "outputs": [],
   "source": [
    "R.<q,z_1,z_2,z_3>=PolynomialRing(QQ,'q,z_1,z_2,z_3')\n",
    "K=R.fraction_field()\n",
    "\n",
    "\n",
    "def R(z_i,z_j):\n",
    "    Rij = Matrix(K,9,9,0)\n",
    "    _v_ = [1,1,0]\n",
    "    for i in range(3):\n",
    "        for j in range(3):\n",
    "            ij = 3*(i) + j # row/col index for v_i \\tensor v_j\n",
    "            ji = 3*(j) + i # row/col index for v_j \\tensor v_i\n",
    "            \n",
    "            Rij[ij,ij] = (1 - z_i/z_j)*q                      # (2.8)\n",
    "            \n",
    "            Rij[ji, ij] = (-1)^(_v_[i] * _v_[j])*(1 - q^2)     #(2.9)\n",
    "            if i == j:\n",
    "                Rij[ij, ij] = -1*(1 - q^2*(z_i/z_j))\n",
    "            if i > j:\n",
    "                Rij[ji, ij] =  Rij[ji, ij]*(z_i/z_j)        #(2.9 case 2)\n",
    "            Rij[8,8] = -1 * (q^2 - (z_i/z_j))\n",
    "    \n",
    "    for k in range(8): # negate rows 1, 2, 4, and 5 to get ungraded R-matrix\n",
    "                for l in range(8):\n",
    "                    if k == 0 or k == 1 or k == 3 or k == 4:\n",
    "                         Rij[k,l] = -1*Rij[k,l]              \n",
    "    return Rij\n"
   ]
  },
  {
   "cell_type": "code",
   "execution_count": 36,
   "id": "714075e2",
   "metadata": {},
   "outputs": [
    {
     "data": {
      "text/plain": [
       "True"
      ]
     },
     "execution_count": 36,
     "metadata": {},
     "output_type": "execute_result"
    }
   ],
   "source": [
    "\n",
    "Id = identity_matrix(3, sparse = True)\n",
    "\n",
    "P = matrix(Permutation([1,4,7,2,5,8,3,6,9]))\n",
    "IdxP= Id.tensor_product(P)\n",
    "\n",
    "R12 = R(z_1,z_2).tensor_product(Id)\n",
    "R23 = Id.tensor_product(R(z_2,z_3))\n",
    "R13 = IdxP * R(z_1,z_3).tensor_product(Id) * IdxP\n",
    "R12*R13*R23 == R23*R13*R12\n",
    "\n"
   ]
  },
  {
   "cell_type": "code",
   "execution_count": null,
   "id": "26461ebf",
   "metadata": {},
   "outputs": [],
   "source": []
  }
 ],
 "metadata": {
  "kernelspec": {
   "display_name": "SageMath 9.6",
   "language": "sage",
   "name": "sagemath-9.6"
  },
  "language_info": {
   "codemirror_mode": {
    "name": "ipython",
    "version": 3
   },
   "file_extension": ".py",
   "mimetype": "text/x-python",
   "name": "python",
   "nbconvert_exporter": "python",
   "pygments_lexer": "ipython3",
   "version": "3.10.3"
  }
 },
 "nbformat": 4,
 "nbformat_minor": 5
}
