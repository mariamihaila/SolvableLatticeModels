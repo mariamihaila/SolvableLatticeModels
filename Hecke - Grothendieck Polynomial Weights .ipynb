{
 "cells": [
  {
   "cell_type": "code",
   "execution_count": 9,
   "id": "97dac9a9",
   "metadata": {},
   "outputs": [],
   "source": [
    "R.<X,x1,x2,x3,a,b,g>= PolynomialRing(QQ, order = 'lex')\n",
    "X_ = [x1,x2,x3]\n",
    "\n",
    "def ev(weight,i):\n",
    "    X_ = [x1,x2,x3]\n",
    "    weight = R(weight) \n",
    "    if X in weight.monomials():\n",
    "        return weight(X = X_[i-1])\n",
    "    else:\n",
    "        return weight\n",
    "\n",
    "def s_(f,i): \n",
    "    if i == 1:\n",
    "        return f.substitute(x1= x2, x2 = x1) # (12).f(x1,x2,x3) = f(x2,x1,x3)\n",
    "    if i ==2:\n",
    "        return f.substitute(x2=x3, x3=x2) # (23).f(x1,x2,x3) = f(x1,x3,x2)\n",
    "    \n",
    "def d_(f,i): # Divided difference operator\n",
    "    fs_i = s_(f,i)\n",
    "    return (fs_i-f)/(X_[i]- X_[i-1])\n",
    "\n",
    "def T_(f,i):\n",
    "    return -b*f+((a+b+g)*X_[i-1]+ g*X_[i]+1+(b+g)*(a+g)*X_[i-1]*X_[i])*d_(f,i)\n",
    "\n",
    "def KN(f,w):\n",
    "    # w is a permutation in S_3, given as a product of s1 and s2 (given as a list)\n",
    "    # for example w = [1,2,1] => w = (s1)(s2)(s1). ie. w = (12)(13)(12)\n",
    "    # Base Case (Seed)\n",
    "    if len(w)== 0: # i.e w is the identity permutation. \n",
    "        return f\n",
    "    else: \n",
    "        el = w.pop()\n",
    "        return T_(KN(f,w), el)\n",
    "\n",
    "vertex_weights = {(3,0,3,0): X, (3, 1, 3, 1): X, (3, 2, 3, 2): X, (3, 3, 0, 0): 1, (2, 1, 2, 1): X, (2, 2, 0, 0): 1, (1, 1, 0, 0): 1,(0,0,0,0):1}\n",
    "\n",
    "def Merge(dict1, dict2):\n",
    "    return(dict2.update(dict1))\n",
    "\n",
    "def state_weight(state):\n",
    "    p = 1\n",
    "    row = 0\n",
    "    for i in range(len(state)):\n",
    "        if tuple(state[i]) not in vertex_weights:\n",
    "            raise ValueError(\"Unknown Weight: \", state[i])\n",
    "        if i % 3 == 0:\n",
    "            row += 1\n",
    "        p *= ev(vertex_weights[tuple(state[i])], row)\n",
    "        #print(vertex_weights[(tuple(state[i]))])\n",
    "    return p\n"
   ]
  },
  {
   "cell_type": "markdown",
   "id": "ba9f34e4",
   "metadata": {},
   "source": [
    "### Special Case: $\\alpha = \\beta = 1, \\gamma = 0$"
   ]
  },
  {
   "cell_type": "markdown",
   "id": "a83c18b2",
   "metadata": {},
   "source": [
    "\n",
    "\\begin{align*}\n",
    "KN_{e} &= x_{1}^{2} x_{2}\\\\\n",
    "KN_{\\sigma_1} &= x_{1}^{2} x_{2}^{2} + x_{1}^{2} x_{2} + x_{1} x_{2}\\\\\n",
    "KN_ {\\sigma_2} &= x_{1}^{2} x_{2} x_{3} + x_{1}^{2} x_{2} + x_{1}^{2}\\\\\n",
    "KN_ {\\sigma_1\\sigma_2} &= x_{1}^{2} x_{2}^{2} x_{3} + x_{1}^{2} x_{2}^{2} + x_{1}^{2} x_{2} x_{3}^{2} + 3 x_{1}^{2} x_{2} x_{3} + 2 x_{1}^{2} x_{2} + x_{1}^{2} x_{3} + x_{1}^{2} + x_{1} x_{2} x_{3} + x_{1} x_{2} + x_{1}\\\\\n",
    "KN{\\sigma_2\\sigma_1} &= x_{1}^{2} x_{2}^{2} x_{3} + x_{1}^{2} x_{2}^{2} + x_{1}^{2} x_{2} x_{3} + 2 x_{1}^{2} x_{2} + x_{1}^{2} + x_{1} x_{2}^{2} + x_{1} x_{2} x_{3} + 3 x_{1} x_{2} + x_{1} + x_{2}\\\\\n",
    "KN{\\sigma_1\\sigma_2\\sigma_1} &=x_{1}^{2} x_{2}^{2} x_{3}^{2} + 2 x_{1}^{2} x_{2}^{2} x_{3} + x_{1}^{2} x_{2}^{2} + x_{1}^{2} x_{2} x_{3}^{2} + 4 x_{1}^{2} x_{2} x_{3} + 3 x_{1}^{2} x_{2} + x_{1}^{2} x_{3} + x_{1}^{2} + x_{1} x_{2}^{2} x_{3} + x_{1} x_{2}^{2} + x_{1} x_{2} x_{3}^{2} + 4 x_{1} x_{2} x_{3} + 4 x_{1} x_{2} + x_{1} x_{3} + 2 x_{1} + x_{2} x_{3} + x_{2} + 1\n",
    "\\end{align*}"
   ]
  },
  {
   "cell_type": "markdown",
   "id": "6d064c64",
   "metadata": {},
   "source": [
    "### Notation: \n",
    "\n",
    "\n",
    "Vertices are represented by a 4 tuple. For example (2,2,3,3) has in vertices 2,2 and out vertices 3,3. \n",
    "\n",
    "A state is represented by a list of 9 tuples, vertices are read from left to right from row 1 to row 3. "
   ]
  },
  {
   "cell_type": "markdown",
   "id": "053915a3",
   "metadata": {},
   "source": [
    "### Vertex Weights solved For"
   ]
  },
  {
   "cell_type": "code",
   "execution_count": 16,
   "id": "ce0bad88",
   "metadata": {},
   "outputs": [
    {
     "data": {
      "text/plain": [
       "{(3, 0, 3, 0): X,\n",
       " (3, 1, 3, 1): X,\n",
       " (3, 2, 3, 2): X,\n",
       " (3, 3, 0, 0): 1,\n",
       " (2, 1, 2, 1): X,\n",
       " (2, 2, 0, 0): 1,\n",
       " (1, 1, 0, 0): 1,\n",
       " (0, 0, 0, 0): 1,\n",
       " (0, 3, 0, 3): X,\n",
       " (2, 2, 3, 3): X + 1,\n",
       " (1, 1, 2, 2): X + 1,\n",
       " (0, 2, 0, 2): X,\n",
       " (2, 0, 2, 0): X,\n",
       " (1, 1, 3, 3): X + 1,\n",
       " (3, 3, 2, 2): X + 1,\n",
       " (0, 0, 3, 3): X^2 + 2*X + 1,\n",
       " (2, 3, 2, 3): 1}"
      ]
     },
     "execution_count": 16,
     "metadata": {},
     "output_type": "execute_result"
    }
   ],
   "source": [
    "vertex_weights"
   ]
  },
  {
   "cell_type": "markdown",
   "id": "c84629f1",
   "metadata": {},
   "source": [
    "### Solve for the weights that appear in the $KN_{\\sigma_1}$  lattice"
   ]
  },
  {
   "cell_type": "code",
   "execution_count": 17,
   "id": "5485e6fc",
   "metadata": {},
   "outputs": [
    {
     "data": {
      "text/plain": [
       "x1 * (x1*x2^2*x3 + x1*x2^2 + x1*x2*x3^2 + 3*x1*x2*x3 + 2*x1*x2 + x1*x3 + x1 + x2*x3 + x2 + 1)"
      ]
     },
     "execution_count": 17,
     "metadata": {},
     "output_type": "execute_result"
    }
   ],
   "source": [
    "# special case: DiFrancesco Zinn-Justin polynomials\n",
    "a = b = 1\n",
    "g = 0\n",
    "\n",
    "\n",
    "seed = x1^2*x2\n",
    "f = KN(seed, [1,2])\n",
    "f.factor()\n",
    "\n",
    "# add new vertex weights to the dictionary\n",
    "\n",
    "new_vertex_weights = {(0,3,0,3): X, (3,0,3,0): X, (2,2,3,3): X + 1}\n",
    "Merge(new_vertex_weights, vertex_weights)\n",
    "\n",
    "ev(vertex_weights[(2,2,3,3)],2)\n",
    "f.factor()\n"
   ]
  },
  {
   "cell_type": "markdown",
   "id": "ef37a78e",
   "metadata": {},
   "source": [
    "### Solve for the weights that appear in the $KN_{\\sigma2}$ lattice"
   ]
  },
  {
   "cell_type": "code",
   "execution_count": 18,
   "id": "49dd3be2",
   "metadata": {},
   "outputs": [],
   "source": [
    "seed = x1^2*x2\n",
    "f = KN(seed, [2])\n",
    "f.factor()\n",
    "\n",
    "# add new vertex weights to the dictionary\n",
    "\n",
    "new_vertex_weights = {(1,1,2,2): X + 1, (0,2,0,2): X, (2,0,2,0): X}\n",
    "Merge(new_vertex_weights, vertex_weights)\n"
   ]
  },
  {
   "cell_type": "markdown",
   "id": "83fd4d4b",
   "metadata": {},
   "source": [
    "### Solve for the weights that appear in the $KN_{\\sigma_2\\sigma_1}$ lattice"
   ]
  },
  {
   "cell_type": "code",
   "execution_count": 19,
   "id": "b9f689b9",
   "metadata": {},
   "outputs": [],
   "source": [
    "seed = x1^2*x2\n",
    "f = KN(seed, [2,1])\n",
    "f.factor()\n",
    "\n",
    "# known states: \n",
    "state_1 = [[1,1,2,2],[2,2,3,3],[3,3,0,0],\n",
    "           [3,2,3,2],[3,3,0,0],[0,0,0,0],\n",
    "           [2,2,0,0],[0,0,0,0],[0,0,0,0]]\n",
    "\n",
    "state_2 = [[1,1,2,2],[2,2,0,0],[0,3,0,3],\n",
    "           [3,2,3,2],[3,0,3,0],[3,3,0,0],\n",
    "           [2,2,0,0],[0,0,0,0],[0,0,0, 0]]\n",
    "\n",
    "state_3 = [[1,1,0,0],[0,2,0,2],[0,3,0,3],\n",
    "           [3,0,3,0],[3,2,3,2],[3,3,0,0],\n",
    "           [2,0,2,0], [2,2,0,0],[0,0,0,0]]\n",
    "\n",
    "\n",
    "f = f - state_weight(state_1)  - state_weight(state_2) - state_weight(state_3)\n",
    "new_vertex_weights = {(1,1,3,3): X + 1, (3,3,2,2):X+1}\n",
    "Merge(new_vertex_weights, vertex_weights)\n",
    "\n"
   ]
  },
  {
   "cell_type": "markdown",
   "id": "0920ba65",
   "metadata": {},
   "source": [
    "### Solve for the weights that appear in the $KN_{\\sigma_1\\sigma_2}$ lattice\n"
   ]
  },
  {
   "cell_type": "code",
   "execution_count": 20,
   "id": "2e009d02",
   "metadata": {
    "scrolled": true
   },
   "outputs": [],
   "source": [
    "seed = x1^2*x2\n",
    "f = KN(seed, [1,2])\n",
    "f.factor()\n",
    "\n",
    "state_1 = ([2,1,2,1],[2,2,0,0],[0,3,0,3],\n",
    "           [1,1,0,0],[0,0,0,0],[0,3,0,3],\n",
    "           [3,0,3,0],[3,0,3,0],[3,3,0,0])\n",
    "state_2 = ([2,1,2,1],[2,2,3,3],[3,3,0,0],\n",
    "           [1,1,0,0], [0,3,0,3],[0,0,0,0],\n",
    "           [3,0,3,0], [3,3,0,0],[0,0,0,0])\n",
    "state_3 = ([2,1,2,1], [2, 2, 0,0],[0,3,0,3],\n",
    "           [1,1,0,0],[0,0,3,3],[3,3,0,0],\n",
    "           [3,0,3,0],[3,3,0,0],[0,0,0,0])\n",
    "state_4 = ([2,1,2,1],[2,2,0,0], [0,3,0,3],\n",
    "           [1,1,3,3],[3,0,3,0],[3,3,0,0],\n",
    "           [3,3,0,0], [0,0,0,0],[0,0,0,0])\n",
    "state_5 = ([2,1,2,1],[2,2,3,3],[3,3,0,0],\n",
    "           [1,1,2,2],[2,2,0,0],[0,0,0,0],\n",
    "           [3,3,0,0],[0,0,0,0],[0,0,0,0])\n",
    "f = f - state_weight(state_1) - state_weight(state_2)\n",
    "f.factor()/x1\n",
    "\n",
    "new_weights = {(1,1,3,3):X + 1, (0,0,3,3): (X + 1)^2}\n",
    "Merge(new_weights, vertex_weights) \n",
    "\n",
    "\n",
    "#state_weight(state_3) + state_weight(state_4) + state_weight(state_5)"
   ]
  },
  {
   "cell_type": "markdown",
   "id": "b7ba677c",
   "metadata": {},
   "source": [
    "### Solve for the weights that appear in the $KN_{\\sigma_1\\sigma_2\\sigma_1}$ lattice\n"
   ]
  },
  {
   "cell_type": "code",
   "execution_count": 21,
   "id": "9c40e546",
   "metadata": {},
   "outputs": [],
   "source": [
    "seed = x1^2*x2\n",
    "f = KN(seed, [1,2,1])\n",
    "f.factor()\n",
    "\n",
    "state_1 = ([1,1,0,0],[0,2,0,2],[0,3,0,3],\n",
    "           [2,0,2,0],[2,2,0,0],[0,3,0,3],\n",
    "           [3,0,3,0],[3,0,3,0],[3,3,0,0])\n",
    "\n",
    "state_2 = ([1,1,0,0],[0,2,0,2],[0,3,0,3],\n",
    "           [2,0,2,0],[2,2,3,3],[3,3,0,0],\n",
    "           [3,0,3,0],[3,3,0,0],[0,0,0,0])\n",
    "\n",
    "state_3 = ([1,1,2,2], [2,2,3,3],[3,3,0,0],\n",
    "           [2,2,0,0],[0,3,0,3],[0,0,0,0],\n",
    "           [3,0,3,0],[3,3,0,0],[0,0,0,0])\n",
    "\n",
    "state_4 = ([1,1,2,2],[2,2,0,0],[0,3,0,3],\n",
    "           [2,2,0,0], [0,0,3,3], [3,3,0,0],\n",
    "           [3,0,3,0],[3,3,0,0],[0,0,0,0])\n",
    "\n",
    "state_5 = ([1,1,2,2],[2,2,0,0],[0,3,0,3],\n",
    "           [2,2,3,3],[3,0,3,0],[3,3,0,0],\n",
    "           [3,3,0,0],[0,0,0,0],[0,0,0,0])\n",
    "\n",
    "state_6 = ([1,1,2,2],[2,2,0,0],[0,3,0,3],\n",
    "           [2,2,0,0],[0,0,0,0],[0,3,0,3],\n",
    "           [3,0,3,0],[3,0,3,0],[3,3,0,0])\n",
    "\n",
    "state_7 = ([1,1,2,2],[2,2,3,3],[3,3,0,0],\n",
    "           [2,2,3,3], [3,3,0,0],[0,0,0,0],\n",
    "          [3,3,0,0],[0,0,0,0],[0,0,0,0])\n",
    "\n",
    "state_8 = ([1,1,3,3],[3,2,3,2],[3,3,0,0],\n",
    "           [0,3,0,3],[0,0,0,0],[0,0,0,0],\n",
    "           [ 3,3,0,0], [0,0,0,0],[0,0,0,0])\n",
    "\n",
    "h = state_weight(state_1) + state_weight(state_2) + state_weight(state_3)+ state_weight(state_4) + state_weight(state_5) + state_weight(state_6)+ state_weight(state_7) + state_weight(state_8) \n",
    "#print(h)\n",
    "\n",
    "new_weights = {(2,3,2,3):1}\n",
    "Merge(new_weights, vertex_weights)\n",
    "\n",
    "\n",
    "#print(state_weight(state_8))"
   ]
  },
  {
   "cell_type": "code",
   "execution_count": null,
   "id": "66e08a23",
   "metadata": {},
   "outputs": [],
   "source": []
  },
  {
   "cell_type": "code",
   "execution_count": null,
   "id": "5972d00d",
   "metadata": {},
   "outputs": [],
   "source": []
  }
 ],
 "metadata": {
  "kernelspec": {
   "display_name": "SageMath 9.6",
   "language": "sage",
   "name": "sagemath-9.6"
  },
  "language_info": {
   "codemirror_mode": {
    "name": "ipython",
    "version": 3
   },
   "file_extension": ".py",
   "mimetype": "text/x-python",
   "name": "python",
   "nbconvert_exporter": "python",
   "pygments_lexer": "ipython3",
   "version": "3.10.3"
  }
 },
 "nbformat": 4,
 "nbformat_minor": 5
}
